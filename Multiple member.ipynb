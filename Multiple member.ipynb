{
 "cells": [
  {
   "cell_type": "code",
   "execution_count": 2,
   "id": "cd3da115",
   "metadata": {},
   "outputs": [
    {
     "name": "stdout",
     "output_type": "stream",
     "text": [
      "Iam going to sleep\n",
      " i can bark\n"
     ]
    }
   ],
   "source": [
    "from abc import ABC\n",
    "class Animal(ABC):\n",
    "    def sleep(self):\n",
    "        print (\"Iam going to sleep\")\n",
    "    def Sound(self):\n",
    "        print(\"This function is for defining the sound by any animals\")\n",
    "class Snake(Animal):\n",
    "    def Sound (self):\n",
    "        print (\"I can hissss\")\n",
    "class Dog(Animal):\n",
    "    def Sound(self):\n",
    "        print (\" i can bark\")\n",
    "        \n",
    "c=Dog()\n",
    "c.sleep()\n",
    "c.Sound()\n",
    "\n",
    "\n",
    "        "
   ]
  },
  {
   "cell_type": "code",
   "execution_count": 3,
   "id": "0b25181e",
   "metadata": {},
   "outputs": [
    {
     "name": "stdout",
     "output_type": "stream",
     "text": [
      "Hello Parent\n",
      "Hello Child\n"
     ]
    }
   ],
   "source": [
    "# singel inheritance Exsampel\n",
    "\n",
    "class parent:\n",
    "    def func1(self):\n",
    "        print(\"Hello Parent\")\n",
    "class child (parent):\n",
    "    def func2(self):\n",
    "        print (\"Hello Child\")\n",
    "test=child()\n",
    "test.func1()\n",
    "test.func2()"
   ]
  },
  {
   "cell_type": "code",
   "execution_count": 5,
   "id": "5c28b494",
   "metadata": {},
   "outputs": [
    {
     "name": "stdout",
     "output_type": "stream",
     "text": [
      "Hello G1\n",
      "Hello G2\n",
      "Hello Child\n"
     ]
    }
   ],
   "source": [
    "#Multiple member\n",
    "\n",
    "class parent1:\n",
    "    def F1(self):\n",
    "        print(\"Hello G1\")\n",
    "class parent2:\n",
    "     def F2(self):\n",
    "        print(\"Hello G2\")\n",
    "class parent3:\n",
    "     def F2(self):\n",
    "        print(\"Hello G3\")\n",
    "        \n",
    "class Child (parent1,parent2,parent3):\n",
    "    def F3(self):\n",
    "        print(\"Hello Child\")\n",
    "        \n",
    "test=Child ()\n",
    "test.F1()\n",
    "test.F2()\n",
    "test.F3()\n",
    "\n",
    "    "
   ]
  },
  {
   "cell_type": "code",
   "execution_count": null,
   "id": "eb35e6b1",
   "metadata": {},
   "outputs": [],
   "source": []
  }
 ],
 "metadata": {
  "kernelspec": {
   "display_name": "Python 3 (ipykernel)",
   "language": "python",
   "name": "python3"
  },
  "language_info": {
   "codemirror_mode": {
    "name": "ipython",
    "version": 3
   },
   "file_extension": ".py",
   "mimetype": "text/x-python",
   "name": "python",
   "nbconvert_exporter": "python",
   "pygments_lexer": "ipython3",
   "version": "3.10.4"
  }
 },
 "nbformat": 4,
 "nbformat_minor": 5
}
